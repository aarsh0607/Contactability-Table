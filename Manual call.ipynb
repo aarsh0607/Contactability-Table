{
 "cells": [
  {
   "cell_type": "code",
   "execution_count": 1,
   "id": "e75288e9",
   "metadata": {},
   "outputs": [],
   "source": [
    "import pandas as pd\n",
    "import numpy as py\n",
    "import os\n",
    "import glob\n",
    "import matplotlib.pyplot as plt\n",
    "import sys\n",
    "import csv"
   ]
  },
  {
   "cell_type": "code",
   "execution_count": 5,
   "id": "46441ab2",
   "metadata": {},
   "outputs": [],
   "source": [
    "df_manual_call = pd.read_excel('/Users/AarshDayal/Downloads/Zest Bucket X Master.xlsx', sheet_name = 'Sheet1')"
   ]
  },
  {
   "cell_type": "code",
   "execution_count": 6,
   "id": "75769cd1",
   "metadata": {},
   "outputs": [
    {
     "data": {
      "text/plain": [
       "Index(['allocationdate', 'allocationweek', 'resolutiondate', 'duedate',\n",
       "       'disbursaldate', 'ftd', 'emi', 'accountholdername', 'accountholderid',\n",
       "       'accountid', 'tenure', 'externalid', 'genericmerchantname',\n",
       "       'merchant_category', 'merchants_categorization_group', 'FL/RL',\n",
       "       'lender', 'dpdbucket', 'principaldue', 'interestdue', 'feesdue',\n",
       "       'penaltydue', 'totaldue', 'noofemismissed', 'noofemispaid',\n",
       "       'total_amount_missed', 'tos', 'principal_missed', 'interest_missed',\n",
       "       'noofemispassed', 'mobilephone', 'loanamount', 'email',\n",
       "       'activationdate', 'bankname', 'mandatemode', 'mandatestatus', 'city',\n",
       "       'state', 'pincode', 'phonedb', 'phonecibil', 'addressdb',\n",
       "       'addresscibil', 'employmentstatus', 'income_buckets', 'interestrate',\n",
       "       'cibilscore', 'ever_90_flag', 'failure_reason',\n",
       "       'child_restructured_loan_flag', 'cluster_seg', 'kycaddress',\n",
       "       'bsaddress', 'fathersfirstname', 'fatherslastname', 'dpdbucket1m',\n",
       "       'dpdbucket2m', 'dpdbucket3m', 'dpdbucket4m', 'dpdbucket5m',\n",
       "       'dpdbucket6m', 'payment1m', 'payment2m', 'payment3m', 'payment4m',\n",
       "       'payment5m', 'payment6m', 'customer_band', 'loan_band', 'date_of_score',\n",
       "       'Mambu', 'Ubona', 'Predue', 'Grace', 'EMI Amount', 'New City',\n",
       "       'New State', 'Zone', 'Calling Details', 'Agency Name', 'AM Name',\n",
       "       'Status', 'Paid', 'Paid Status', 'POS Cleared', 'POS Status',\n",
       "       'Paid Date', 'Last Dialer Disposition', 'Attempts', 'Connects',\n",
       "       'Mobile', 'Category', 'LOT'],\n",
       "      dtype='object')"
      ]
     },
     "execution_count": 6,
     "metadata": {},
     "output_type": "execute_result"
    }
   ],
   "source": [
    "df_manual_call.columns"
   ]
  },
  {
   "cell_type": "code",
   "execution_count": null,
   "id": "8f8307a3",
   "metadata": {},
   "outputs": [],
   "source": []
  }
 ],
 "metadata": {
  "kernelspec": {
   "display_name": "Python 3 (ipykernel)",
   "language": "python",
   "name": "python3"
  },
  "language_info": {
   "codemirror_mode": {
    "name": "ipython",
    "version": 3
   },
   "file_extension": ".py",
   "mimetype": "text/x-python",
   "name": "python",
   "nbconvert_exporter": "python",
   "pygments_lexer": "ipython3",
   "version": "3.9.7"
  }
 },
 "nbformat": 4,
 "nbformat_minor": 5
}
